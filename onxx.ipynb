{
 "cells": [
  {
   "cell_type": "code",
   "execution_count": 2,
   "id": "initial_id",
   "metadata": {
    "collapsed": true,
    "ExecuteTime": {
     "end_time": "2024-03-05T21:49:44.765435Z",
     "start_time": "2024-03-05T21:49:40.886165Z"
    }
   },
   "outputs": [
    {
     "name": "stderr",
     "output_type": "stream",
     "text": [
      "Using cache found in /Users/thanhhung/.cache/torch/hub/pytorch_vision_v0.11.0\n"
     ]
    },
    {
     "name": "stdout",
     "output_type": "stream",
     "text": [
      "================ Diagnostic Run torch.onnx.export version 2.0.1 ================\n",
      "verbose: False, log level: Level.ERROR\n",
      "======================= 0 NONE 0 NOTE 0 WARNING 0 ERROR ========================\n"
     ]
    }
   ],
   "source": [
    "from torch.utils.mobile_optimizer import optimize_for_mobile\n",
    "from pytorch_grad_cam.utils.image import show_cam_on_image\n",
    "from tqdm import tqdm\n",
    "import numpy as np\n",
    "import torch.nn.functional as F\n",
    "import cv2\n",
    "import torch\n",
    "from torchvision import transforms\n",
    "import urllib\n",
    "from PIL import Image\n",
    "\n",
    "from model.segmentation.segmentation_output_wrapper import SegmentationModelOutputWrapper\n",
    "\n",
    "\n",
    "\n",
    "sem_classes = ['__background__', 'cable', 'tower_lattice', 'tower_tucohy', 'tower_wooden']\n",
    "model = torch.hub.load('pytorch/vision:v0.11.0', 'deeplabv3_resnet101', pretrained=False,\n",
    "                       num_classes=len(sem_classes))\n",
    "\n",
    "PATH = f'model/segmentation/model_ResNet101.pth'\n",
    "\n",
    "if torch.cuda.is_available():\n",
    "    model.load_state_dict(torch.load(PATH))\n",
    "else:\n",
    "    model.load_state_dict(torch.load(PATH, map_location=torch.device('cpu')))\n",
    "\n",
    "\n",
    "model = SegmentationModelOutputWrapper(model)\n",
    "\n",
    "filename = 'data/images/3_00092.jpg'\n",
    "\n",
    "input_image = Image.open(filename)\n",
    "input_image = input_image.convert(\"RGB\")\n",
    "preprocess = transforms.Compose([\n",
    "    transforms.ToTensor(),\n",
    "    transforms.Normalize(mean=[0.485, 0.456, 0.406], std=[0.229, 0.224, 0.225]),\n",
    "])\n",
    "\n",
    "input_tensor = preprocess(input_image)\n",
    "input_batch = input_tensor.unsqueeze(0)  # create a mini-batch as expected by the model\n",
    "\n",
    "# Convert to ONNX\n",
    "torch.onnx.export(model, input_batch, \"model/segmentation/model_ResNet101.onnx\", opset_version=11)"
   ]
  },
  {
   "cell_type": "code",
   "outputs": [],
   "source": [],
   "metadata": {
    "collapsed": false
   },
   "id": "b39ed6d0add5fbca"
  }
 ],
 "metadata": {
  "kernelspec": {
   "display_name": "Python 3",
   "language": "python",
   "name": "python3"
  },
  "language_info": {
   "codemirror_mode": {
    "name": "ipython",
    "version": 2
   },
   "file_extension": ".py",
   "mimetype": "text/x-python",
   "name": "python",
   "nbconvert_exporter": "python",
   "pygments_lexer": "ipython2",
   "version": "2.7.6"
  }
 },
 "nbformat": 4,
 "nbformat_minor": 5
}
