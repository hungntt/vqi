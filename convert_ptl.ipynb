{
 "cells": [
  {
   "cell_type": "code",
   "execution_count": 1,
   "outputs": [],
   "source": [
    "import torch"
   ],
   "metadata": {
    "collapsed": false,
    "ExecuteTime": {
     "end_time": "2024-02-17T21:39:03.542353Z",
     "start_time": "2024-02-17T21:39:00.309634Z"
    }
   }
  },
  {
   "cell_type": "code",
   "execution_count": 2,
   "metadata": {
    "collapsed": true,
    "ExecuteTime": {
     "end_time": "2023-07-28T20:17:09.022495Z",
     "start_time": "2023-07-28T20:17:09.018701Z"
    }
   },
   "outputs": [],
   "source": [
    "sem_classes = ['__background__', 'cable', 'tower_lattice', 'tower_tucohy', 'tower_wooden']\n",
    "sem_class_to_idx = {cls: idx for (idx, cls) in enumerate(sem_classes)}"
   ]
  },
  {
   "cell_type": "code",
   "execution_count": 3,
   "outputs": [
    {
     "name": "stderr",
     "output_type": "stream",
     "text": [
      "Using cache found in /Users/thanhhung/.cache/torch/hub/pytorch_vision_v0.11.0\n",
      "/Users/thanhhung/anaconda3/envs/vqi_v2/lib/python3.11/site-packages/torchvision/models/_utils.py:208: UserWarning: The parameter 'pretrained' is deprecated since 0.13 and may be removed in the future, please use 'weights' instead.\n",
      "  warnings.warn(\n",
      "/Users/thanhhung/anaconda3/envs/vqi_v2/lib/python3.11/site-packages/torchvision/models/_utils.py:223: UserWarning: Arguments other than a weight enum or `None` for 'weights' are deprecated since 0.13 and may be removed in the future. The current behavior is equivalent to passing `weights=DeepLabV3_ResNet50_Weights.COCO_WITH_VOC_LABELS_V1`. You can also use `weights=DeepLabV3_ResNet50_Weights.DEFAULT` to get the most up-to-date weights.\n",
      "  warnings.warn(msg)\n"
     ]
    }
   ],
   "source": [
    "from torchvision.models.segmentation import deeplabv3_resnet50\n",
    "\n",
    "model = torch.hub.load('pytorch/vision:v0.11.0', 'deeplabv3_resnet50', pretrained=True)"
   ],
   "metadata": {
    "collapsed": false,
    "ExecuteTime": {
     "end_time": "2024-02-17T21:39:36.885392Z",
     "start_time": "2024-02-17T21:39:36.418586Z"
    }
   }
  },
  {
   "cell_type": "code",
   "execution_count": 4,
   "outputs": [
    {
     "name": "stderr",
     "output_type": "stream",
     "text": [
      "/Users/thanhhung/anaconda3/envs/vqi_v2/lib/python3.11/site-packages/torch/serialization.py:799: UserWarning: 'torch.load' received a zip file that looks like a TorchScript archive dispatching to 'torch.jit.load' (call 'torch.jit.load' directly to silence this warning)\n",
      "  warnings.warn(\"'torch.load' received a zip file that looks like a TorchScript archive\"\n"
     ]
    },
    {
     "ename": "TypeError",
     "evalue": "Expected state_dict to be dict-like, got <class 'torch.jit._script.RecursiveScriptModule'>.",
     "output_type": "error",
     "traceback": [
      "\u001B[0;31m---------------------------------------------------------------------------\u001B[0m",
      "\u001B[0;31mTypeError\u001B[0m                                 Traceback (most recent call last)",
      "Cell \u001B[0;32mIn[4], line 5\u001B[0m\n\u001B[1;32m      3\u001B[0m     model\u001B[38;5;241m.\u001B[39mload_state_dict(torch\u001B[38;5;241m.\u001B[39mload(PATH))\n\u001B[1;32m      4\u001B[0m \u001B[38;5;28;01melse\u001B[39;00m:\n\u001B[0;32m----> 5\u001B[0m     model\u001B[38;5;241m.\u001B[39mload_state_dict(torch\u001B[38;5;241m.\u001B[39mload(PATH, map_location\u001B[38;5;241m=\u001B[39mtorch\u001B[38;5;241m.\u001B[39mdevice(\u001B[38;5;124m'\u001B[39m\u001B[38;5;124mcpu\u001B[39m\u001B[38;5;124m'\u001B[39m)))\n\u001B[1;32m      7\u001B[0m model \u001B[38;5;241m=\u001B[39m model\u001B[38;5;241m.\u001B[39meval()\n",
      "File \u001B[0;32m~/anaconda3/envs/vqi_v2/lib/python3.11/site-packages/torch/nn/modules/module.py:1994\u001B[0m, in \u001B[0;36mModule.load_state_dict\u001B[0;34m(self, state_dict, strict)\u001B[0m\n\u001B[1;32m   1971\u001B[0m \u001B[38;5;250m\u001B[39m\u001B[38;5;124mr\u001B[39m\u001B[38;5;124;03m\"\"\"Copies parameters and buffers from :attr:`state_dict` into\u001B[39;00m\n\u001B[1;32m   1972\u001B[0m \u001B[38;5;124;03mthis module and its descendants. If :attr:`strict` is ``True``, then\u001B[39;00m\n\u001B[1;32m   1973\u001B[0m \u001B[38;5;124;03mthe keys of :attr:`state_dict` must exactly match the keys returned\u001B[39;00m\n\u001B[0;32m   (...)\u001B[0m\n\u001B[1;32m   1991\u001B[0m \u001B[38;5;124;03m    ``RuntimeError``.\u001B[39;00m\n\u001B[1;32m   1992\u001B[0m \u001B[38;5;124;03m\"\"\"\u001B[39;00m\n\u001B[1;32m   1993\u001B[0m \u001B[38;5;28;01mif\u001B[39;00m \u001B[38;5;129;01mnot\u001B[39;00m \u001B[38;5;28misinstance\u001B[39m(state_dict, Mapping):\n\u001B[0;32m-> 1994\u001B[0m     \u001B[38;5;28;01mraise\u001B[39;00m \u001B[38;5;167;01mTypeError\u001B[39;00m(\u001B[38;5;124m\"\u001B[39m\u001B[38;5;124mExpected state_dict to be dict-like, got \u001B[39m\u001B[38;5;132;01m{}\u001B[39;00m\u001B[38;5;124m.\u001B[39m\u001B[38;5;124m\"\u001B[39m\u001B[38;5;241m.\u001B[39mformat(\u001B[38;5;28mtype\u001B[39m(state_dict)))\n\u001B[1;32m   1996\u001B[0m missing_keys: List[\u001B[38;5;28mstr\u001B[39m] \u001B[38;5;241m=\u001B[39m []\n\u001B[1;32m   1997\u001B[0m unexpected_keys: List[\u001B[38;5;28mstr\u001B[39m] \u001B[38;5;241m=\u001B[39m []\n",
      "\u001B[0;31mTypeError\u001B[0m: Expected state_dict to be dict-like, got <class 'torch.jit._script.RecursiveScriptModule'>."
     ]
    }
   ],
   "source": [
    "PATH = f'model/segmentation/deeplabv3_scripted.ptl'\n",
    "if torch.cuda.is_available():\n",
    "    model.load_state_dict(torch.load(PATH))\n",
    "else:\n",
    "    model.load_state_dict(torch.load(PATH, map_location=torch.device('cpu')))\n",
    "\n",
    "model = model.eval()"
   ],
   "metadata": {
    "collapsed": false,
    "ExecuteTime": {
     "end_time": "2024-02-17T21:39:38.559612Z",
     "start_time": "2024-02-17T21:39:38.293515Z"
    }
   }
  },
  {
   "cell_type": "code",
   "execution_count": 16,
   "outputs": [],
   "source": [
    "from model.segmentation.segmentation_output_wrapper import SegmentationModelOutputWrapper\n",
    "model = SegmentationModelOutputWrapper(model)"
   ],
   "metadata": {
    "collapsed": false,
    "ExecuteTime": {
     "end_time": "2023-07-28T15:28:40.904629Z",
     "start_time": "2023-07-28T15:28:40.900352Z"
    }
   }
  },
  {
   "cell_type": "code",
   "execution_count": 10,
   "outputs": [],
   "source": [
    "from torch.utils.mobile_optimizer import optimize_for_mobile\n",
    "scripted_module = torch.jit.script(model)\n",
    "optimized_model = optimize_for_mobile(scripted_module)\n",
    "# optimized_model.save(\"ImageSegmentation/deeplabv3_scripted.pt\")\n",
    "optimized_model._save_for_lite_interpreter(\"model/segmentation/DeepLabv3_ResNet50_scripted.ptl\")"
   ],
   "metadata": {
    "collapsed": false,
    "ExecuteTime": {
     "end_time": "2023-07-28T20:21:07.116347Z",
     "start_time": "2023-07-28T20:21:06.192868Z"
    }
   }
  },
  {
   "cell_type": "code",
   "execution_count": null,
   "outputs": [],
   "source": [],
   "metadata": {
    "collapsed": false
   }
  }
 ],
 "metadata": {
  "kernelspec": {
   "display_name": "Python 3",
   "language": "python",
   "name": "python3"
  },
  "language_info": {
   "codemirror_mode": {
    "name": "ipython",
    "version": 2
   },
   "file_extension": ".py",
   "mimetype": "text/x-python",
   "name": "python",
   "nbconvert_exporter": "python",
   "pygments_lexer": "ipython2",
   "version": "2.7.6"
  }
 },
 "nbformat": 4,
 "nbformat_minor": 0
}
